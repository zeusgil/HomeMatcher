{
 "cells": [
  {
   "cell_type": "markdown",
   "id": "087bd142-0890-453a-afa8-7c43998242b6",
   "metadata": {},
   "source": [
    "## Step 1: Setting Up the Python Application"
   ]
  },
  {
   "cell_type": "code",
   "execution_count": 1,
   "id": "464ca476-3c5e-4e6f-a3a8-26eb06344816",
   "metadata": {},
   "outputs": [],
   "source": [
    "import sys\n",
    "sys.path.append(\"../\")"
   ]
  },
  {
   "cell_type": "code",
   "execution_count": 12,
   "id": "2592f79f-e8b3-495e-bc23-62ccd68e5813",
   "metadata": {},
   "outputs": [],
   "source": [
    "import os\n",
    "import sys\n",
    "import asyncio\n",
    "import json\n",
    "from scripts.home_matcher import HomeMatcher\n",
    "from scripts.db_semantic_searcher import ListingSearcher\n",
    "from scripts.listing_personalizer import ListingPersonalizer\n",
    "from scripts.listings_creator_langchain import ListingsGenerator\n",
    "from scripts.resources.consts import BUYER_PREFERENCES_STR\n",
    "from scripts.models import ListingConverter"
   ]
  },
  {
   "cell_type": "code",
   "execution_count": 3,
   "id": "60ddc4b8-d344-4a55-9f91-7c3eeb993392",
   "metadata": {},
   "outputs": [],
   "source": [
    "# Use since running async in jupyter\n",
    "import nest_asyncio\n",
    "nest_asyncio.apply()"
   ]
  },
  {
   "cell_type": "code",
   "execution_count": 4,
   "id": "6f564fce-9d14-4069-932e-c72256b1fc6d",
   "metadata": {},
   "outputs": [],
   "source": [
    "os.environ['OPENAI_API_KEY'] = '<YOUR_OPENAI_KEY>'\n",
    "api_key = os.getenv('OPENAI_API_KEY')"
   ]
  },
  {
   "cell_type": "markdown",
   "id": "951f9d44-00e6-475c-9088-7da93fe11a1b",
   "metadata": {},
   "source": [
    "## Steps 2 & 3: Generating Real Estate Listings usage & Storing Listings in a Vector Database\n"
   ]
  },
  {
   "cell_type": "code",
   "execution_count": 5,
   "id": "307d861a-a836-4d04-bf9e-af0b1cf3c672",
   "metadata": {},
   "outputs": [
    {
     "name": "stdout",
     "output_type": "stream",
     "text": [
      "Generating listings...\n"
     ]
    },
    {
     "name": "stderr",
     "output_type": "stream",
     "text": [
      "/Users/gilbenami/.local/share/virtualenvs/Homematch-B_ylVJZw/lib/python3.10/site-packages/langchain/llms/openai.py:202: UserWarning: You are trying to use a chat model. This way of initializing it is no longer supported. Instead, please use: `from langchain.chat_models import ChatOpenAI`\n",
      "  warnings.warn(\n",
      "/Users/gilbenami/.local/share/virtualenvs/Homematch-B_ylVJZw/lib/python3.10/site-packages/langchain/llms/openai.py:790: UserWarning: You are trying to use a chat model. This way of initializing it is no longer supported. Instead, please use: `from langchain.chat_models import ChatOpenAI`\n",
      "  warnings.warn(\n"
     ]
    },
    {
     "name": "stdout",
     "output_type": "stream",
     "text": [
      "Saving listings to resources/listings.json\n",
      "Listings are stored in ChromaDB path: resources/listings.db\n",
      "Count of items in db: 10\n",
      "Listings stored in ChromaDB\n"
     ]
    }
   ],
   "source": [
    "listings_generator = ListingsGenerator()\n",
    "asyncio.run(listings_generator.generate_listings())"
   ]
  },
  {
   "cell_type": "code",
   "execution_count": 6,
   "id": "d79fc0f9-368b-4722-a5d1-bacf6d6327a6",
   "metadata": {},
   "outputs": [
    {
     "data": {
      "text/plain": [
       "{'property_1': {'Neighborhood': 'Green Oaks',\n",
       "  'Price': '$800,000',\n",
       "  'Bedrooms': 3,\n",
       "  'Bathrooms': 2,\n",
       "  'House Size': '2,000 sqft',\n",
       "  'Description': 'Welcome to this eco-friendly oasis nestled in the heart of Green Oaks. This charming 3-bedroom, 2-bathroom home boasts energy-efficient features such as solar panels and a well-insulated structure. Natural light floods the living spaces, highlighting the beautiful hardwood floors and eco-conscious finishes. The open-concept kitchen and dining area lead to a spacious backyard with a vegetable garden, perfect for the eco-conscious family. Embrace sustainable living without compromising on style in this Green Oaks gem. Neighborhood Description: Green Oaks is a close-knit, environmentally-conscious community with access to organic grocery stores, community gardens, and bike paths. Take a stroll through the nearby Green Oaks Park or grab a cup of coffee at the cozy Green Bean Cafe. With easy access to public transportation and bike lanes, commuting is a breeze.'},\n",
       " 'property_2': {'Neighborhood': 'Sunnyvale',\n",
       "  'Price': '$950,000',\n",
       "  'Bedrooms': 4,\n",
       "  'Bathrooms': 3,\n",
       "  'House Size': '2,500 sqft',\n",
       "  'Description': \"This stunning 4-bedroom, 3-bathroom home in Sunnyvale offers luxurious living with modern amenities. The spacious open floor plan includes a gourmet kitchen with granite countertops and stainless steel appliances, a cozy family room with a fireplace, and a formal dining area. The master suite features a walk-in closet and a spa-like bathroom. The backyard is an entertainer's dream with a covered patio and built-in BBQ. Neighborhood Description: Sunnyvale is a vibrant community known for its excellent schools, parks, and recreational facilities. Enjoy a day at Sunnyvale Park or explore the local shops and restaurants. With convenient access to major highways and public transportation, commuting is easy.\"},\n",
       " 'property_3': {'Neighborhood': 'Maplewood',\n",
       "  'Price': '$700,000',\n",
       "  'Bedrooms': 3,\n",
       "  'Bathrooms': 2,\n",
       "  'House Size': '1,800 sqft',\n",
       "  'Description': 'Charming 3-bedroom, 2-bathroom home located in the desirable Maplewood neighborhood. This home features a bright and airy living room with vaulted ceilings, a modern kitchen with quartz countertops, and a spacious master suite with a private bath. The backyard is perfect for outdoor gatherings with a large deck and lush landscaping. Neighborhood Description: Maplewood is a family-friendly community with top-rated schools, parks, and recreational facilities. Enjoy a walk through Maplewood Park or visit the local farmers market. With easy access to shopping, dining, and entertainment, Maplewood offers a convenient and enjoyable lifestyle.'},\n",
       " 'property_4': {'Neighborhood': 'Lakeside',\n",
       "  'Price': '$1,200,000',\n",
       "  'Bedrooms': 5,\n",
       "  'Bathrooms': 4,\n",
       "  'House Size': '3,500 sqft',\n",
       "  'Description': 'Luxurious 5-bedroom, 4-bathroom home in the prestigious Lakeside neighborhood. This home features a grand foyer, a formal living room with a fireplace, a gourmet kitchen with high-end appliances, and a spacious family room. The master suite includes a sitting area, a walk-in closet, and a spa-like bathroom. The backyard offers a private oasis with a pool, spa, and outdoor kitchen. Neighborhood Description: Lakeside is an upscale community with beautiful homes, excellent schools, and a variety of recreational opportunities. Enjoy boating and fishing at Lakeside Lake or take a stroll through the scenic trails. With close proximity to shopping, dining, and entertainment, Lakeside offers a luxurious and convenient lifestyle.'},\n",
       " 'property_5': {'Neighborhood': 'Brookfield',\n",
       "  'Price': '$650,000',\n",
       "  'Bedrooms': 3,\n",
       "  'Bathrooms': 2,\n",
       "  'House Size': '2,100 sqft',\n",
       "  'Description': 'Beautiful 3-bedroom, 2-bathroom home in the charming Brookfield neighborhood. This home features a spacious living room with a fireplace, a modern kitchen with stainless steel appliances, and a master suite with a private bath. The backyard is perfect for entertaining with a large patio and mature trees. Neighborhood Description: Brookfield is a friendly community with excellent schools, parks, and recreational facilities. Enjoy a day at Brookfield Park or visit the local shops and restaurants. With easy access to major highways and public transportation, Brookfield offers a convenient and enjoyable lifestyle.'},\n",
       " 'property_6': {'Neighborhood': 'Riverside',\n",
       "  'Price': '$900,000',\n",
       "  'Bedrooms': 4,\n",
       "  'Bathrooms': 3,\n",
       "  'House Size': '2,800 sqft',\n",
       "  'Description': \"Stunning 4-bedroom, 3-bathroom home in the desirable Riverside neighborhood. This home features a bright and open floor plan with a gourmet kitchen, a spacious family room with a fireplace, and a formal dining area. The master suite includes a walk-in closet and a spa-like bathroom. The backyard is an entertainer's dream with a covered patio and built-in BBQ. Neighborhood Description: Riverside is a vibrant community known for its excellent schools, parks, and recreational facilities. Enjoy a day at Riverside Park or explore the local shops and restaurants. With convenient access to major highways and public transportation, commuting is easy.\"},\n",
       " 'property_7': {'Neighborhood': 'Hillcrest',\n",
       "  'Price': '$750,000',\n",
       "  'Bedrooms': 3,\n",
       "  'Bathrooms': 2,\n",
       "  'House Size': '2,000 sqft',\n",
       "  'Description': 'Charming 3-bedroom, 2-bathroom home located in the desirable Hillcrest neighborhood. This home features a bright and airy living room with vaulted ceilings, a modern kitchen with quartz countertops, and a spacious master suite with a private bath. The backyard is perfect for outdoor gatherings with a large deck and lush landscaping. Neighborhood Description: Hillcrest is a family-friendly community with top-rated schools, parks, and recreational facilities. Enjoy a walk through Hillcrest Park or visit the local farmers market. With easy access to shopping, dining, and entertainment, Hillcrest offers a convenient and enjoyable lifestyle.'},\n",
       " 'property_8': {'Neighborhood': 'Willow Creek',\n",
       "  'Price': '$850,000',\n",
       "  'Bedrooms': 4,\n",
       "  'Bathrooms': 3,\n",
       "  'House Size': '2,600 sqft',\n",
       "  'Description': 'Beautiful 4-bedroom, 3-bathroom home in the charming Willow Creek neighborhood. This home features a spacious living room with a fireplace, a modern kitchen with stainless steel appliances, and a master suite with a private bath. The backyard is perfect for entertaining with a large patio and mature trees. Neighborhood Description: Willow Creek is a friendly community with excellent schools, parks, and recreational facilities. Enjoy a day at Willow Creek Park or visit the local shops and restaurants. With easy access to major highways and public transportation, Willow Creek offers a convenient and enjoyable lifestyle.'},\n",
       " 'property_9': {'Neighborhood': 'Cedar Ridge',\n",
       "  'Price': '$1,000,000',\n",
       "  'Bedrooms': 5,\n",
       "  'Bathrooms': 4,\n",
       "  'House Size': '3,200 sqft',\n",
       "  'Description': 'Luxurious 5-bedroom, 4-bathroom home in the prestigious Cedar Ridge neighborhood. This home features a grand foyer, a formal living room with a fireplace, a gourmet kitchen with high-end appliances, and a spacious family room. The master suite includes a sitting area, a walk-in closet, and a spa-like bathroom. The backyard offers a private oasis with a pool, spa, and outdoor kitchen. Neighborhood Description: Cedar Ridge is an upscale community with beautiful homes, excellent schools, and a variety of recreational opportunities. Enjoy hiking and biking on the scenic trails or take a stroll through the local parks. With close proximity to shopping, dining, and entertainment, Cedar Ridge offers a luxurious and convenient lifestyle.'},\n",
       " 'property_10': {'Neighborhood': 'Pine Valley',\n",
       "  'Price': '$780,000',\n",
       "  'Bedrooms': 4,\n",
       "  'Bathrooms': 3,\n",
       "  'House Size': '2,400 sqft',\n",
       "  'Description': \"Stunning 4-bedroom, 3-bathroom home in the desirable Pine Valley neighborhood. This home features a bright and open floor plan with a gourmet kitchen, a spacious family room with a fireplace, and a formal dining area. The master suite includes a walk-in closet and a spa-like bathroom. The backyard is an entertainer's dream with a covered patio and built-in BBQ. Neighborhood Description: Pine Valley is a vibrant community known for its excellent schools, parks, and recreational facilities. Enjoy a day at Pine Valley Park or explore the local shops and restaurants. With convenient access to major highways and public transportation, commuting is easy.\"}}"
      ]
     },
     "execution_count": 6,
     "metadata": {},
     "output_type": "execute_result"
    }
   ],
   "source": [
    "listings_generator.load_listings()"
   ]
  },
  {
   "cell_type": "markdown",
   "id": "842f4eb6-f3bb-419d-aacf-480153042d77",
   "metadata": {},
   "source": [
    "## Step 4, 5 & 6: Building the User Preference Interface, Searching Based on Preferences, Personalizing Listing Descriptions:\n",
    "\n"
   ]
  },
  {
   "cell_type": "code",
   "execution_count": 16,
   "id": "4c00f194-f13a-41e5-ba9b-c75b36aa29f0",
   "metadata": {},
   "outputs": [
    {
     "name": "stdout",
     "output_type": "stream",
     "text": [
      "Searching for similar listing\n",
      "Count of items in db: 10\n",
      "\n",
      "The 5 top most similar listings are:\n",
      "[Document(page_content=\"neighborhood:Riverside\\nprice:$900,000\\nbedrooms:4.0\\nbathrooms:3.0\\nhouse size:2,800 sqft\\ndescription:Stunning 4-bedroom, 3-bathroom home in the desirable Riverside neighborhood. This home features a bright and open floor plan with a gourmet kitchen, a spacious family room with a fireplace, and a formal dining area. The master suite includes a walk-in closet and a spa-like bathroom. The backyard is an entertainer's dream with a covered patio and built-in BBQ. Neighborhood Description: Riverside is a vibrant community known for its excellent schools, parks, and recreational facilities. Enjoy a day at Riverside Park or explore the local shops and restaurants. With convenient access to major highways and public transportation, commuting is easy.\"), Document(page_content='neighborhood:Brookfield\\nprice:$650,000\\nbedrooms:3.0\\nbathrooms:2.0\\nhouse size:2,100 sqft\\ndescription:Beautiful 3-bedroom, 2-bathroom home in the charming Brookfield neighborhood. This home features a spacious living room with a fireplace, a modern kitchen with stainless steel appliances, and a master suite with a private bath. The backyard is perfect for entertaining with a large patio and mature trees. Neighborhood Description: Brookfield is a friendly community with excellent schools, parks, and recreational facilities. Enjoy a day at Brookfield Park or visit the local shops and restaurants. With easy access to major highways and public transportation, Brookfield offers a convenient and enjoyable lifestyle.'), Document(page_content='neighborhood:Lakeside\\nprice:$1,200,000\\nbedrooms:5.0\\nbathrooms:4.0\\nhouse size:3,500 sqft\\ndescription:Luxurious 5-bedroom, 4-bathroom home in the prestigious Lakeside neighborhood. This home features a grand foyer, a formal living room with a fireplace, a gourmet kitchen with high-end appliances, and a spacious family room. The master suite includes a sitting area, a walk-in closet, and a spa-like bathroom. The backyard offers a private oasis with a pool, spa, and outdoor kitchen. Neighborhood Description: Lakeside is an upscale community with beautiful homes, excellent schools, and a variety of recreational opportunities. Enjoy boating and fishing at Lakeside Lake or take a stroll through the scenic trails. With close proximity to shopping, dining, and entertainment, Lakeside offers a luxurious and convenient lifestyle.'), Document(page_content='neighborhood:Maplewood\\nprice:$700,000\\nbedrooms:3.0\\nbathrooms:2.0\\nhouse size:1,800 sqft\\ndescription:Charming 3-bedroom, 2-bathroom home located in the desirable Maplewood neighborhood. This home features a bright and airy living room with vaulted ceilings, a modern kitchen with quartz countertops, and a spacious master suite with a private bath. The backyard is perfect for outdoor gatherings with a large deck and lush landscaping. Neighborhood Description: Maplewood is a family-friendly community with top-rated schools, parks, and recreational facilities. Enjoy a walk through Maplewood Park or visit the local farmers market. With easy access to shopping, dining, and entertainment, Maplewood offers a convenient and enjoyable lifestyle.'), Document(page_content=\"neighborhood:Pine Valley\\nprice:$780,000\\nbedrooms:4.0\\nbathrooms:3.0\\nhouse size:2,400 sqft\\ndescription:Stunning 4-bedroom, 3-bathroom home in the desirable Pine Valley neighborhood. This home features a bright and open floor plan with a gourmet kitchen, a spacious family room with a fireplace, and a formal dining area. The master suite includes a walk-in closet and a spa-like bathroom. The backyard is an entertainer's dream with a covered patio and built-in BBQ. Neighborhood Description: Pine Valley is a vibrant community known for its excellent schools, parks, and recreational facilities. Enjoy a day at Pine Valley Park or explore the local shops and restaurants. With convenient access to major highways and public transportation, commuting is easy.\")]\n"
     ]
    }
   ],
   "source": [
    "#Step 4 - Building the user preferences is hardcoded in the consts:\n",
    "from scripts.resources.consts import BUYER_PREFERENCES_STR, \\\n",
    "    BUYER_PERSONALIZATION_PROMPT, BUYER_PERSONALIZATION_SYSTEM_PROMPT, BUYER_PERSONALIZATION_FEW_SHOT_EXAMPLES\n",
    "\n",
    "#Step 5 - Search based on preferences:\n",
    "listing_searcher = ListingSearcher()\n",
    "listings = listing_searcher.search_listings(BUYER_PREFERENCES_STR)\n",
    "print(f\"\\nThe {len(listings)} top most similar listings are:\\n{listings}\")"
   ]
  },
  {
   "cell_type": "code",
   "execution_count": 22,
   "id": "c434f0ec-0f46-4333-a44f-7014d3c81c2a",
   "metadata": {},
   "outputs": [
    {
     "data": {
      "text/plain": [
       "[\"Stunning 4-bedroom, 3-bathroom home in the desirable Riverside neighborhood. This home features a bright and open floor plan with a gourmet kitchen, a spacious family room with a fireplace, and a formal dining area. The master suite includes a walk-in closet and a spa-like bathroom. The backyard is an entertainer's dream with a covered patio and built-in BBQ. Neighborhood Description: Riverside is a vibrant community known for its excellent schools, parks, and recreational facilities. Enjoy a day at Riverside Park or explore the local shops and restaurants. With convenient access to major highways and public transportation, commuting is easy.\",\n",
       " 'Beautiful 3-bedroom, 2-bathroom home in the charming Brookfield neighborhood. This home features a spacious living room with a fireplace, a modern kitchen with stainless steel appliances, and a master suite with a private bath. The backyard is perfect for entertaining with a large patio and mature trees. Neighborhood Description: Brookfield is a friendly community with excellent schools, parks, and recreational facilities. Enjoy a day at Brookfield Park or visit the local shops and restaurants. With easy access to major highways and public transportation, Brookfield offers a convenient and enjoyable lifestyle.',\n",
       " 'Luxurious 5-bedroom, 4-bathroom home in the prestigious Lakeside neighborhood. This home features a grand foyer, a formal living room with a fireplace, a gourmet kitchen with high-end appliances, and a spacious family room. The master suite includes a sitting area, a walk-in closet, and a spa-like bathroom. The backyard offers a private oasis with a pool, spa, and outdoor kitchen. Neighborhood Description: Lakeside is an upscale community with beautiful homes, excellent schools, and a variety of recreational opportunities. Enjoy boating and fishing at Lakeside Lake or take a stroll through the scenic trails. With close proximity to shopping, dining, and entertainment, Lakeside offers a luxurious and convenient lifestyle.',\n",
       " 'Charming 3-bedroom, 2-bathroom home located in the desirable Maplewood neighborhood. This home features a bright and airy living room with vaulted ceilings, a modern kitchen with quartz countertops, and a spacious master suite with a private bath. The backyard is perfect for outdoor gatherings with a large deck and lush landscaping. Neighborhood Description: Maplewood is a family-friendly community with top-rated schools, parks, and recreational facilities. Enjoy a walk through Maplewood Park or visit the local farmers market. With easy access to shopping, dining, and entertainment, Maplewood offers a convenient and enjoyable lifestyle.',\n",
       " \"Stunning 4-bedroom, 3-bathroom home in the desirable Pine Valley neighborhood. This home features a bright and open floor plan with a gourmet kitchen, a spacious family room with a fireplace, and a formal dining area. The master suite includes a walk-in closet and a spa-like bathroom. The backyard is an entertainer's dream with a covered patio and built-in BBQ. Neighborhood Description: Pine Valley is a vibrant community known for its excellent schools, parks, and recreational facilities. Enjoy a day at Pine Valley Park or explore the local shops and restaurants. With convenient access to major highways and public transportation, commuting is easy.\"]"
      ]
     },
     "execution_count": 22,
     "metadata": {},
     "output_type": "execute_result"
    }
   ],
   "source": [
    "#Only original descriptions:\n",
    "houselistings_formatted_listings = [ListingConverter().convert_text_to_houselisting(listing) for listing in listings]\n",
    "original_descriptions = [listing.description for listing in houselistings_formatted_listings]\n",
    "original_descriptions"
   ]
  },
  {
   "cell_type": "code",
   "execution_count": 20,
   "id": "84e996fe-4145-46ee-acdc-a01e0cf659b2",
   "metadata": {},
   "outputs": [
    {
     "name": "stdout",
     "output_type": "stream",
     "text": [
      "Creating personalized listings...\n",
      "Max retries reached, proceeding without augmented description\n"
     ]
    }
   ],
   "source": [
    "#Step 6 - Creating personalized listing description\n",
    "listing_personalizer = ListingPersonalizer()\n",
    "personalized_listings = asyncio.run(listing_personalizer.personalize_listings(BUYER_PREFERENCES_STR, listings))\n",
    "personalized_listings_json = [listing.dict() for listing in personalized_listings]\n"
   ]
  },
  {
   "cell_type": "code",
   "execution_count": 29,
   "id": "70c46462-b9e2-4fe2-aeb0-0c73cd9b830d",
   "metadata": {},
   "outputs": [
    {
     "data": {
      "text/plain": [
       "[\"Stunning 4-bedroom, 3-bathroom home in the desirable Riverside neighborhood. This spacious home features a bright and open floor plan with a gourmet kitchen, a spacious family room with a fireplace, and a formal dining area, perfect for family gatherings. The master suite includes a walk-in closet and a spa-like bathroom, providing a luxurious retreat. The backyard is an entertainer's dream with a covered patio and built-in BBQ, ideal for hosting friends and family. Riverside is a vibrant community known for its excellent schools and parks, making it an ideal location for families. Enjoy a day at Riverside Park or explore the local shops and restaurants. With convenient access to major highways and public transportation, commuting is easy.\",\n",
       " 'Beautiful 3-bedroom, 2-bathroom home in the charming Brookfield neighborhood. This home features a spacious living room with a fireplace, a modern kitchen with stainless steel appliances, and a master suite with a private bath. The backyard is perfect for entertaining with a large patio and mature trees. Brookfield is a friendly community known for its excellent schools and parks, making it an ideal location for families. Enjoy a day at Brookfield Park or visit the local shops and restaurants. With easy access to major highways and public transportation, Brookfield offers a convenient and enjoyable lifestyle.',\n",
       " 'Luxurious 5-bedroom, 4-bathroom home in the prestigious Lakeside neighborhood. This spacious home is perfect for families, featuring a grand foyer, a formal living room with a fireplace, and a gourmet kitchen with high-end appliances. The master suite includes a sitting area, a walk-in closet, and a spa-like bathroom. The backyard offers a private oasis with a large swimming pool, spa, and outdoor kitchen, ideal for family gatherings and relaxation. Lakeside is an upscale community with excellent schools and a variety of recreational opportunities, including parks and scenic trails. Enjoy boating and fishing at Lakeside Lake or take a stroll through the beautiful surroundings. With close proximity to shopping, dining, and entertainment, Lakeside offers a luxurious and convenient lifestyle.',\n",
       " 'Charming 3-bedroom, 2-bathroom home located in the desirable Maplewood neighborhood. This home features a bright and airy living room with vaulted ceilings, a modern kitchen with quartz countertops, and a spacious master suite with a private bath. The backyard is perfect for outdoor gatherings with a large deck and lush landscaping. Neighborhood Description: Maplewood is a family-friendly community with top-rated schools, parks, and recreational facilities. Enjoy a walk through Maplewood Park or visit the local farmers market. With easy access to shopping, dining, and entertainment, Maplewood offers a convenient and enjoyable lifestyle.',\n",
       " \"Stunning 4-bedroom, 3-bathroom home in the desirable Pine Valley neighborhood. This spacious home features a bright and open floor plan with a gourmet kitchen, perfect for family meals, and a spacious family room with a cozy fireplace. The formal dining area is ideal for hosting gatherings. The master suite includes a walk-in closet and a spa-like bathroom, providing a luxurious retreat. The backyard is an entertainer's dream with a covered patio and built-in BBQ, perfect for outdoor activities. Pine Valley is a vibrant community known for its excellent schools and parks, making it an ideal location for families. Enjoy a day at Pine Valley Park or explore the local shops and restaurants. With convenient access to major highways and public transportation, commuting is easy.\"]"
      ]
     },
     "execution_count": 29,
     "metadata": {},
     "output_type": "execute_result"
    }
   ],
   "source": [
    "augmented_descriptions = [listing[\"augmented_description\"] for listing in personalized_listings_json]\n",
    "augmented_descriptions"
   ]
  },
  {
   "cell_type": "code",
   "execution_count": 35,
   "id": "9f299c5b-126e-4c6c-8c72-a6b17b51cdca",
   "metadata": {},
   "outputs": [
    {
     "data": {
      "text/html": [
       "<pre style=\"white-space: pre-wrap;\">Stunning 4-bedroom, 3-bathroom home in the desirable Riverside neighborhood. This <span style=\"background-color: #a6f3a6;\">spacious </span>home features a bright and open floor plan with a gourmet kitchen, a spacious family room with a fireplace, and a formal dining <span style=\"background-color: #f3a6a6;\">area.</span><span style=\"background-color: #a6f3a6;\">area, perfect for family gatherings.</span> The master suite includes a walk-in closet and a spa-like <span style=\"background-color: #f3a6a6;\">bathroom.</span><span style=\"background-color: #a6f3a6;\">bathroom, providing a luxurious retreat.</span> The backyard is an entertainer's dream with a covered patio and built-in <span style=\"background-color: #f3a6a6;\">BBQ. Neighborhood Description:</span><span style=\"background-color: #a6f3a6;\">BBQ, ideal for hosting friends and family.</span> Riverside is a vibrant community known for its excellent <span style=\"background-color: #f3a6a6;\">schools,</span><span style=\"background-color: #a6f3a6;\">schools and</span> parks, <span style=\"background-color: #f3a6a6;\">and recreational facilities.</span><span style=\"background-color: #a6f3a6;\">making it an ideal location for families.</span> Enjoy a day at Riverside Park or explore the local shops and restaurants. With convenient access to major highways and public transportation, commuting is easy.</pre>"
      ],
      "text/plain": [
       "<IPython.core.display.HTML object>"
      ]
     },
     "metadata": {},
     "output_type": "display_data"
    },
    {
     "data": {
      "text/html": [
       "<pre style=\"white-space: pre-wrap;\">Beautiful 3-bedroom, 2-bathroom home in the charming Brookfield neighborhood. This home features a spacious living room with a fireplace, a modern kitchen with stainless steel appliances, and a master suite with a private bath. The backyard is perfect for entertaining with a large patio and mature trees. <span style=\"background-color: #f3a6a6;\">Neighborhood Description: </span>Brookfield is a friendly community <span style=\"background-color: #f3a6a6;\">with</span><span style=\"background-color: #a6f3a6;\">known for its</span> excellent <span style=\"background-color: #f3a6a6;\">schools,</span><span style=\"background-color: #a6f3a6;\">schools and</span> parks, <span style=\"background-color: #f3a6a6;\">and</span><span style=\"background-color: #a6f3a6;\">making</span> <span style=\"background-color: #f3a6a6;\">recreational</span><span style=\"background-color: #a6f3a6;\">it</span> <span style=\"background-color: #f3a6a6;\">facilities.</span><span style=\"background-color: #a6f3a6;\">an ideal location for families.</span> Enjoy a day at Brookfield Park or visit the local shops and restaurants. With easy access to major highways and public transportation, Brookfield offers a convenient and enjoyable lifestyle.</pre>"
      ],
      "text/plain": [
       "<IPython.core.display.HTML object>"
      ]
     },
     "metadata": {},
     "output_type": "display_data"
    },
    {
     "data": {
      "text/html": [
       "<pre style=\"white-space: pre-wrap;\">Luxurious 5-bedroom, 4-bathroom home in the prestigious Lakeside neighborhood. This <span style=\"background-color: #a6f3a6;\">spacious </span>home <span style=\"background-color: #f3a6a6;\">features</span><span style=\"background-color: #a6f3a6;\">is perfect for families, featuring</span> a grand foyer, a formal living room with a fireplace, <span style=\"background-color: #a6f3a6;\">and </span>a gourmet kitchen with high-end <span style=\"background-color: #f3a6a6;\">appliances, and a spacious</span><span style=\"background-color: #a6f3a6;\">appliances. The master suite includes a sitting area, a walk-in closet, and a spa-like bathroom. The backyard offers a private oasis with a large swimming pool, spa, and outdoor kitchen, ideal for</span> family <span style=\"background-color: #f3a6a6;\">room. The master suite includes a sitting area, a walk-in closet, and a spa-like bathroom. The backyard</span><span style=\"background-color: #a6f3a6;\">gatherings and relaxation. Lakeside is an upscale community with excellent schools and a variety of recreational opportunities, including parks and scenic trails. Enjoy boating and fishing at Lakeside Lake or take a stroll through the beautiful surroundings. With close proximity to shopping, dining, and entertainment, Lakeside</span> offers a <span style=\"background-color: #f3a6a6;\">private oasis with a pool, spa, and outdoor kitchen. Neighborhood Description: Lakeside is an upscale community with beautiful homes, excellent schools, and a variety of recreational opportunities. Enjoy boating and fishing at Lakeside Lake or take a stroll through the scenic trails. With close proximity to shopping, dining, and entertainment, Lakeside offers a </span>luxurious and convenient lifestyle.</pre>"
      ],
      "text/plain": [
       "<IPython.core.display.HTML object>"
      ]
     },
     "metadata": {},
     "output_type": "display_data"
    },
    {
     "data": {
      "text/html": [
       "<pre style=\"white-space: pre-wrap;\">Charming 3-bedroom, 2-bathroom home located in the desirable Maplewood neighborhood. This home features a bright and airy living room with vaulted ceilings, a modern kitchen with quartz countertops, and a spacious master suite with a private bath. The backyard is perfect for outdoor gatherings with a large deck and lush landscaping. Neighborhood Description: Maplewood is a family-friendly community with top-rated schools, parks, and recreational facilities. Enjoy a walk through Maplewood Park or visit the local farmers market. With easy access to shopping, dining, and entertainment, Maplewood offers a convenient and enjoyable lifestyle.</pre>"
      ],
      "text/plain": [
       "<IPython.core.display.HTML object>"
      ]
     },
     "metadata": {},
     "output_type": "display_data"
    },
    {
     "data": {
      "text/html": [
       "<pre style=\"white-space: pre-wrap;\">Stunning 4-bedroom, 3-bathroom home in the desirable Pine Valley neighborhood. This <span style=\"background-color: #a6f3a6;\">spacious </span>home features a bright and open floor plan with a gourmet kitchen, <span style=\"background-color: #a6f3a6;\">perfect for family meals, and </span>a spacious family room with a <span style=\"background-color: #f3a6a6;\">fireplace, and a</span><span style=\"background-color: #a6f3a6;\">cozy fireplace. The</span> formal dining <span style=\"background-color: #f3a6a6;\">area.</span><span style=\"background-color: #a6f3a6;\">area is ideal for hosting gatherings.</span> The master suite includes a walk-in closet and a spa-like <span style=\"background-color: #f3a6a6;\">bathroom.</span><span style=\"background-color: #a6f3a6;\">bathroom, providing a luxurious retreat.</span> The backyard is an entertainer's dream with a covered patio and built-in <span style=\"background-color: #f3a6a6;\">BBQ. Neighborhood Description:</span><span style=\"background-color: #a6f3a6;\">BBQ, perfect for outdoor activities.</span> Pine Valley is a vibrant community known for its excellent <span style=\"background-color: #f3a6a6;\">schools,</span><span style=\"background-color: #a6f3a6;\">schools and</span> parks, <span style=\"background-color: #f3a6a6;\">and recreational facilities.</span><span style=\"background-color: #a6f3a6;\">making it an ideal location for families.</span> Enjoy a day at Pine Valley Park or explore the local shops and restaurants. With convenient access to major highways and public transportation, commuting is easy.</pre>"
      ],
      "text/plain": [
       "<IPython.core.display.HTML object>"
      ]
     },
     "metadata": {},
     "output_type": "display_data"
    }
   ],
   "source": [
    "from difflib import HtmlDiff, SequenceMatcher\n",
    "from IPython.display import display, HTML\n",
    "import re\n",
    "\n",
    "#Creating a comparison:\n",
    "diff_list = list(zip(original_descriptions, augmented_descriptions))\n",
    "\n",
    "\n",
    "#Created this part using GenAI for comparison. Red- Removed from augmented while Green is added in the augmented version.\n",
    "def word_by_word_diff(before, after):\n",
    "    before_words = re.findall(r'\\S+|\\s+', before)\n",
    "    after_words = re.findall(r'\\S+|\\s+', after)\n",
    "\n",
    "    matcher = SequenceMatcher(None, before_words, after_words)\n",
    "    diff_html = ''\n",
    "    for opcode, i1, i2, j1, j2 in matcher.get_opcodes():\n",
    "        if opcode == 'equal':\n",
    "            diff_html += ''.join(before_words[i1:i2])\n",
    "        elif opcode == 'insert':\n",
    "            diff_html += '<span style=\"background-color: #a6f3a6;\">' + ''.join(after_words[j1:j2]) + '</span>'\n",
    "        elif opcode == 'delete':\n",
    "            diff_html += '<span style=\"background-color: #f3a6a6;\">' + ''.join(before_words[i1:i2]) + '</span>'\n",
    "        elif opcode == 'replace':\n",
    "            diff_html += '<span style=\"background-color: #f3a6a6;\">' + ''.join(before_words[i1:i2]) + '</span>'\n",
    "            diff_html += '<span style=\"background-color: #a6f3a6;\">' + ''.join(after_words[j1:j2]) + '</span>'\n",
    "    return diff_html\n",
    "\n",
    "def display_diffs(before_after_list):\n",
    "    for before, after in before_after_list:\n",
    "        diff_html = word_by_word_diff(before, after)\n",
    "        display(HTML('<pre style=\"white-space: pre-wrap;\">{}</pre>'.format(diff_html)))\n",
    "\n",
    "\n",
    "display_diffs(diff_list)\n"
   ]
  },
  {
   "cell_type": "markdown",
   "id": "17e4059f-b849-40cf-bc2f-c8876654dcf6",
   "metadata": {},
   "source": [
    "## Main script usage:"
   ]
  },
  {
   "cell_type": "code",
   "execution_count": 3,
   "id": "60328b1c-7ded-4093-a5fd-16b2ba14571c",
   "metadata": {},
   "outputs": [
    {
     "name": "stderr",
     "output_type": "stream",
     "text": [
      "/Users/gilbenami/.local/share/virtualenvs/Homematch-B_ylVJZw/lib/python3.10/site-packages/langchain/llms/openai.py:202: UserWarning: You are trying to use a chat model. This way of initializing it is no longer supported. Instead, please use: `from langchain.chat_models import ChatOpenAI`\n",
      "  warnings.warn(\n",
      "/Users/gilbenami/.local/share/virtualenvs/Homematch-B_ylVJZw/lib/python3.10/site-packages/langchain/llms/openai.py:790: UserWarning: You are trying to use a chat model. This way of initializing it is no longer supported. Instead, please use: `from langchain.chat_models import ChatOpenAI`\n",
      "  warnings.warn(\n"
     ]
    },
    {
     "name": "stdout",
     "output_type": "stream",
     "text": [
      "Generating listings...\n",
      "Saving listings to resources/listings.json\n",
      "Count of items in db: 40\n",
      "Listings stored in ChromaDB\n",
      "Searching for similar listing\n",
      "Count of items in db: 40\n",
      "Creating personalized listings...\n",
      "Max retries reached, proceeding without augmented description\n",
      "Personalized listings saved to resources/personalized_listings.json\n"
     ]
    }
   ],
   "source": [
    "# This is the main script that enables running e2e.\n",
    "\n",
    "home_matcher = HomeMatcher(api_key=api_key)\n",
    "asyncio.run(home_matcher.match())\n"
   ]
  },
  {
   "cell_type": "code",
   "execution_count": 5,
   "id": "487a32ff-b3f2-4338-b24b-62dfe295db7a",
   "metadata": {},
   "outputs": [
    {
     "data": {
      "text/plain": [
       "[{'neighborhood': 'Cedar Park',\n",
       "  'price': '$780,000',\n",
       "  'bedrooms': 4.0,\n",
       "  'bathrooms': 3.0,\n",
       "  'house_size': '2,300 sqft',\n",
       "  'description': 'Beautiful 4-bedroom, 3-bathroom home in the Cedar Park neighborhood. This home features an open floor plan with a spacious living room, a modern kitchen with quartz countertops, and a dining area that opens to a large deck. The master suite includes a walk-in closet and a luxurious bathroom with a soaking tub. The finished basement offers additional living space and a home office. Neighborhood Description: Cedar Park is a family-friendly community with excellent schools, parks, and recreational facilities. Enjoy hiking and biking trails, community events, and easy access to shopping and dining.',\n",
       "  'augmented_description': \"Beautiful 4-bedroom, 3-bathroom home in the Cedar Park neighborhood. This home features an open floor plan with a spacious living room, a modern kitchen with quartz countertops, and a dining area that opens to a large deck. The master suite includes a walk-in closet and a luxurious bathroom with a soaking tub. The finished basement offers additional living space and a home office. Cedar Park is a family-friendly community with excellent schools and parks, making it an ideal location for families. Enjoy hiking and biking trails, community events, and easy access to shopping and dining. The neighborhood's recreational facilities and great schools make it perfect for raising a family.\"},\n",
       " {'neighborhood': 'Riverside',\n",
       "  'price': '$600,000',\n",
       "  'bedrooms': 3.0,\n",
       "  'bathrooms': 2.0,\n",
       "  'house_size': '1,900 sqft',\n",
       "  'description': 'Beautiful 3-bedroom, 2-bathroom home in the Riverside neighborhood. This home features a spacious living room with vaulted ceilings, a modern kitchen with quartz countertops, and a dining area that opens to a large backyard. The master bedroom has an en-suite bathroom and a walk-in closet. The backyard is perfect for entertaining with a patio and a garden. Neighborhood Description: Riverside is a family-friendly community with excellent schools, parks, and recreational facilities. Enjoy a walk along the Riverside Trail or visit the Riverside Community Center for various activities. The neighborhood is also conveniently located near shopping centers and major highways.',\n",
       "  'augmented_description': 'Beautiful 3-bedroom, 2-bathroom home in the Riverside neighborhood. This spacious home features a living room with vaulted ceilings, perfect for family gatherings. The modern kitchen with quartz countertops and a dining area that opens to a large backyard make it ideal for entertaining. The master bedroom includes an en-suite bathroom and a walk-in closet for added convenience. The backyard, with its patio and garden, offers ample space for outdoor activities. Riverside is a family-friendly community known for its excellent schools and parks, providing a great environment for children. Enjoy a walk along the Riverside Trail or visit the Riverside Community Center for various activities. The neighborhood is also conveniently located near shopping centers and major highways.'},\n",
       " {'neighborhood': 'Riverside',\n",
       "  'price': '$850,000',\n",
       "  'bedrooms': 4.0,\n",
       "  'bathrooms': 3.0,\n",
       "  'house_size': '2,300 sqft',\n",
       "  'description': \"This beautiful 4-bedroom, 3-bathroom home in Riverside offers a perfect blend of comfort and style. The open-concept living area features a modern kitchen with quartz countertops, stainless steel appliances, and a large island. The master suite includes a walk-in closet and a luxurious bathroom with dual vanities and a soaking tub. The backyard is an entertainer's dream with a covered patio, a built-in BBQ, and a fire pit. Neighborhood Description: Riverside is a vibrant community with a variety of amenities, including parks, recreational facilities, and top-rated schools. The neighborhood is conveniently located near shopping centers, restaurants, and major highways, making it an ideal place to call home.\",\n",
       "  'augmented_description': \"This beautiful 4-bedroom, 3-bathroom home in Riverside offers a perfect blend of comfort and style, ideal for families. The open-concept living area features a modern kitchen with quartz countertops, stainless steel appliances, and a large island, perfect for family gatherings. The master suite includes a walk-in closet and a luxurious bathroom with dual vanities and a soaking tub, providing a private retreat. The backyard is an entertainer's dream with a covered patio, a built-in BBQ, and a fire pit, offering ample space for outdoor activities. Riverside is a vibrant community with top-rated schools and a variety of parks, making it an ideal place for families. The neighborhood is conveniently located near shopping centers, restaurants, and major highways, ensuring easy access to all amenities.\"},\n",
       " {'neighborhood': 'Lakeside',\n",
       "  'price': '$1,200,000',\n",
       "  'bedrooms': 5.0,\n",
       "  'bathrooms': 4.0,\n",
       "  'house_size': '3,200 sqft',\n",
       "  'description': 'Luxurious 5-bedroom, 4-bathroom home in the prestigious Lakeside community. This home features a grand foyer, a formal living room, and a family room with a fireplace. The gourmet kitchen has custom cabinetry, a large island, and top-of-the-line appliances. The master suite includes a sitting area, a walk-in closet, and a spa-like bathroom. The backyard offers a covered patio, a built-in BBQ, and a beautiful garden. Neighborhood Description: Lakeside is an upscale community with a private lake, walking trails, and exclusive amenities. Residents enjoy access to a clubhouse, a swimming pool, and tennis courts. The neighborhood is also close to top-rated schools, shopping centers, and fine dining restaurants.',\n",
       "  'augmented_description': ''},\n",
       " {'neighborhood': 'Lakeside',\n",
       "  'price': '$950,000',\n",
       "  'bedrooms': 5.0,\n",
       "  'bathrooms': 4.0,\n",
       "  'house_size': '4,200 sqft',\n",
       "  'description': 'Luxurious 5-bedroom, 4-bathroom home in the prestigious Lakeside neighborhood. This home features a grand entrance with a sweeping staircase, a formal living room, and a dining room. The gourmet kitchen includes custom cabinetry, granite countertops, and a breakfast nook. The master suite offers a private balcony with lake views, a spa-like bathroom, and a walk-in closet. The backyard includes a covered patio, a pool, and a landscaped garden. Neighborhood Description: Lakeside is an upscale community with beautiful lake views and access to private parks and walking trails. The neighborhood is known for its excellent schools and close-knit community. Enjoy fine dining and shopping at the nearby Lakeside Village.',\n",
       "  'augmented_description': 'Luxurious 5-bedroom, 4-bathroom home in the prestigious Lakeside neighborhood. This spacious home is perfect for families, featuring a grand entrance with a sweeping staircase, a formal living room, and a dining room. The gourmet kitchen includes custom cabinetry, granite countertops, and a breakfast nook, ideal for family gatherings. The master suite offers a private balcony with lake views, a spa-like bathroom, and a walk-in closet. The backyard is a family oasis with a covered patio, a large swimming pool, and a landscaped garden, perfect for outdoor activities and relaxation. Lakeside is an upscale community known for its excellent schools and access to private parks and walking trails, making it an ideal location for families. Enjoy fine dining and shopping at the nearby Lakeside Village.'}]"
      ]
     },
     "execution_count": 5,
     "metadata": {},
     "output_type": "execute_result"
    }
   ],
   "source": [
    "results = home_matcher.load_matches()\n",
    "results"
   ]
  },
  {
   "cell_type": "code",
   "execution_count": null,
   "id": "2bab7f64-ce1d-4e6e-bff5-f176b53b7939",
   "metadata": {},
   "outputs": [],
   "source": []
  },
  {
   "cell_type": "code",
   "execution_count": null,
   "id": "3daabeda-64ab-451c-9d01-7b97e805aa32",
   "metadata": {},
   "outputs": [],
   "source": []
  }
 ],
 "metadata": {
  "kernelspec": {
   "display_name": "Python 3 (ipykernel)",
   "language": "python",
   "name": "python3"
  },
  "language_info": {
   "codemirror_mode": {
    "name": "ipython",
    "version": 3
   },
   "file_extension": ".py",
   "mimetype": "text/x-python",
   "name": "python",
   "nbconvert_exporter": "python",
   "pygments_lexer": "ipython3",
   "version": "3.10.14"
  }
 },
 "nbformat": 4,
 "nbformat_minor": 5
}
